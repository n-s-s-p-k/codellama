{
  "nbformat": 4,
  "nbformat_minor": 0,
  "metadata": {
    "colab": {
      "provenance": [],
      "gpuType": "T4",
      "authorship_tag": "ABX9TyPzEgy/wdBzsLldVRnaSEQH",
      "include_colab_link": true
    },
    "kernelspec": {
      "name": "python3",
      "display_name": "Python 3"
    },
    "language_info": {
      "name": "python"
    },
    "accelerator": "GPU"
  },
  "cells": [
    {
      "cell_type": "markdown",
      "metadata": {
        "id": "view-in-github",
        "colab_type": "text"
      },
      "source": [
        "<a href=\"https://colab.research.google.com/github/n-s-s-p-k/codellama/blob/main/Untitled0.ipynb\" target=\"_parent\"><img src=\"https://colab.research.google.com/assets/colab-badge.svg\" alt=\"Open In Colab\"/></a>"
      ]
    },
    {
      "cell_type": "code",
      "execution_count": 1,
      "metadata": {
        "colab": {
          "base_uri": "https://localhost:8080/"
        },
        "id": "ZvItap5YFQbW",
        "outputId": "10e5df1c-01a6-40f1-b0be-772aa29cd550"
      },
      "outputs": [
        {
          "output_type": "stream",
          "name": "stdout",
          "text": [
            ">>> Downloading ollama...\n",
            "############################################################################################# 100.0%\n",
            ">>> Installing ollama to /usr/local/bin...\n",
            ">>> Creating ollama user...\n",
            ">>> Adding ollama user to video group...\n",
            ">>> Adding current user to ollama group...\n",
            ">>> Creating ollama systemd service...\n",
            "WARNING: Unable to detect NVIDIA/AMD GPU. Install lspci or lshw to automatically detect and install GPU dependencies.\n",
            ">>> The Ollama API is now available at 127.0.0.1:11434.\n",
            ">>> Install complete. Run \"ollama\" from the command line.\n",
            "nohup: appending output to 'nohup.out'\n",
            "Collecting pyngrok\n",
            "  Downloading pyngrok-7.1.6-py3-none-any.whl (22 kB)\n",
            "Requirement already satisfied: PyYAML>=5.1 in /usr/local/lib/python3.10/dist-packages (from pyngrok) (6.0.1)\n",
            "Installing collected packages: pyngrok\n",
            "Successfully installed pyngrok-7.1.6\n",
            "Error: listen tcp 127.0.0.1:11434: bind: address already in use\n",
            "ngrok tunnel available at: https://d6d1-34-91-46-124.ngrok-free.app\n"
          ]
        }
      ],
      "source": [
        "!curl -fsSL https://ollama.com/install.sh | sh\n",
        "!echo '#!/bin/bash' > myscript.sh\n",
        "!echo 'ollama serve' >> myscript.sh\n",
        "# Make the script executable\n",
        "!chmod +x myscript.sh\n",
        "!nohup ./myscript.sh &\n",
        "# Step 1: Download and install the latest version of ngrok\n",
        "\n",
        "!pip install pyngrok\n",
        "# Step 2: Set ngrok authtoken and start the services\n",
        "from pyngrok import ngrok, conf\n",
        "import time\n",
        "\n",
        "# Set the ngrok auth token\n",
        "conf.get_default().auth_token = \"2h26fQ0CW6yaRt0CIg9tHGUhMfp_6xFqqLoweCVXdr39tiDmP\"\n",
        "# !ollama pull \"ketsapiwiq/sfr-iterative-dpo-llama-3\"\n",
        "# Start Ollama server\n",
        "# !ollama pull llama2\n",
        "!ollama serve & sleep 5s\n",
        "\n",
        "# Start ngrok to expose port 11434\n",
        "get_ipython().system_raw('./ngrok http 11434 --host-header=\"localhost:11434\" --log stdout &')\n",
        "\n",
        "# Allow some time for ngrok to establish the tunnel\n",
        "time.sleep(5)\n",
        "\n",
        "# Get the public URL from ngrok\n",
        "public_url = ngrok.connect(11434).public_url\n",
        "print(f\"ngrok tunnel available at: {public_url}\")"
      ]
    },
    {
      "cell_type": "code",
      "source": [
        "!export OLLAMA_HOST= https://d6d1-34-91-46-124.ngrok-free.app"
      ],
      "metadata": {
        "colab": {
          "base_uri": "https://localhost:8080/"
        },
        "id": "j7zkeO0rFXRj",
        "outputId": "cfbafd94-295b-4c44-a334-1a3e96bbb51a"
      },
      "execution_count": 2,
      "outputs": [
        {
          "output_type": "stream",
          "name": "stdout",
          "text": [
            "/bin/bash: line 1: export: `https://d6d1-34-91-46-124.ngrok-free.app': not a valid identifier\n"
          ]
        }
      ]
    },
    {
      "cell_type": "code",
      "source": [
        "!ollama run gemma"
      ],
      "metadata": {
        "id": "s_8ac2kJFn-k"
      },
      "execution_count": null,
      "outputs": []
    }
  ]
}